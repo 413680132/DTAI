{
 "cells": [
  {
   "cell_type": "code",
   "execution_count": 1,
   "metadata": {},
   "outputs": [
    {
     "name": "stdout",
     "output_type": "stream",
     "text": [
      "Hello world, I am oxxo!!\n",
      "Hello world, I am xoox!!\n",
      "there are 2 dollars\n",
      "there are 2.000000 dollars\n"
     ]
    }
   ],
   "source": [
    "a = 'Hello world, I am %s!!'\n",
    "b = 'there are a = 'Hello world, I am %s!!'\n",
    "b = 'there are %d dollars'\n",
    "c = 'there are %f dollars'\n",
    "print(a % 'oxxo')  # Hello world, I am oxxo!!\n",
    "print(a % 'xoox')  # Hello world, I am xoox!!\n",
    "print(b % 2.5)     # there are 2 dollars (%d 小數點被無條件捨去 )\n",
    "print(c % 2)       # there are 2.000000 dollars (%f 整數轉換成浮點數 )"
   ]
  },
  {
   "cell_type": "code",
   "execution_count": 2,
   "metadata": {},
   "outputs": [
    {
     "name": "stdout",
     "output_type": "stream",
     "text": [
      "hello world\n",
      "       hello world\n",
      "       hello world\n",
      "hello        world\n",
      "hel world\n",
      "         hel world\n",
      "123.457 world\n"
     ]
    }
   ],
   "source": [
    "print('%s world' % 'hello')      # hello world\n",
    "print('%12s world' % 'hello')    #        hello world\n",
    "print('%+12s world' % 'hello')   #        hello world\n",
    "print('%-12s world' % 'hello')   # hello        world\n",
    "print('%.3s world' % 'hello')    # hel world   %.3s 會讓 hello 只剩下 hel ( 3 個字元 )\n",
    "print('%12.3s world' % 'hello')  #          hel world\n",
    "                                  #%12s 會在 hello 前方加上七個空格 ( 7 + hello 總共 12 個字元 )\n",
    "print('%.3f world' % 123.456789) # 123.457 world  %.3f 會讓 123.456789 只留下小數點三位。"
   ]
  },
  {
   "cell_type": "code",
   "execution_count": 3,
   "metadata": {},
   "outputs": [
    {
     "name": "stdout",
     "output_type": "stream",
     "text": [
      "hello world, ther are 2.500000 dollars!\n"
     ]
    }
   ],
   "source": [
    "a = '%s world, ther are %f dollars!'\n",
    "b = a % ('hello', 2.5)\n",
    "print(b)   # hello world, ther are 2.500000 dollars!\n",
    "                                   #%f"
   ]
  },
  {
   "cell_type": "code",
   "execution_count": null,
   "metadata": {},
   "outputs": [],
   "source": [
    "a = 'hello {}, I am {}'     #「{}」和「foramt()」是 Python 3 所使用的「新式」格式化，\n",
    "b = a.format('world', 'oxxo')    #操作方式為「格式化字串.format(資料)」\n",
    "print(b)   # hello world, I am oxxo"
   ]
  },
  {
   "cell_type": "code",
   "execution_count": 5,
   "metadata": {},
   "outputs": [
    {
     "name": "stdout",
     "output_type": "stream",
     "text": [
      "要吃飯捲, 還是小木屋?\n"
     ]
    }
   ],
   "source": [
    "c = '要吃{}, 還是{}?'\n",
    "b = c.format('飯捲', '小木屋')\n",
    "print(b) \n"
   ]
  },
  {
   "cell_type": "code",
   "execution_count": 7,
   "metadata": {},
   "outputs": [
    {
     "name": "stdout",
     "output_type": "stream",
     "text": [
      "hello oxxo, I am world,1234\n"
     ]
    }
   ],
   "source": [
    "a = 'hello {1}, I am {0},{2}'        #{} 裡可以填入數字，數字表示「填入資料的順序」\n",
    "b = a.format('world', 'oxxo','1234')\n",
    "print(b)   # hello oxxo, I am world ( world 和 oxxo 互換了 )"
   ]
  },
  {
   "cell_type": "code",
   "execution_count": 8,
   "metadata": {},
   "outputs": [
    {
     "name": "stdout",
     "output_type": "stream",
     "text": [
      "hello world, I am oxxo\n"
     ]
    }
   ],
   "source": [
    "a = 'hello{x}{m}, I am {n}'          #{} 加入名稱，就會放入指定名稱的內容\n",
    "b = a.format(m='world', n='oxxo')\n",
    "print(b)   # hello world, I am oxxo"
   ]
  },
  {
   "cell_type": "code",
   "execution_count": 9,
   "metadata": {},
   "outputs": [
    {
     "name": "stdout",
     "output_type": "stream",
     "text": [
      "hello world, I am QQ\n"
     ]
    }
   ],
   "source": [
    "a = 'hello {0[x][m]}, I am {0[y][m]}'\n",
    "b = {'x': {'m':'world', 'n':'oxxo'}, 'y':{'m':'QQ', 'n':'YY'}}      #:\t開始需要加上冒號\n",
    "c = a.format(b)\n",
    "print(c)    # hello world, I am QQ"
   ]
  },
  {
   "cell_type": "code",
   "execution_count": 20,
   "metadata": {},
   "outputs": [
    {
     "name": "stdout",
     "output_type": "stream",
     "text": [
      "hello world, I am QQ\n"
     ]
    }
   ],
   "source": [
    "a = 'hello {0[x][m]}, I am {0[y][m]}'\n",
    "b = {'x': {'m':'world'}, 'y':{'n':'oxxo'}}      #:\t開始需要加上冒號\n",
    "g = a.format(b)\n",
    "print(g)"
   ]
  },
  {
   "cell_type": "code",
   "execution_count": 19,
   "metadata": {},
   "outputs": [
    {
     "name": "stdout",
     "output_type": "stream",
     "text": [
      "hello world, I am oxxo\n",
      "hello world     , I am oxxo      \n",
      "hello      world, I am       oxxo\n",
      "hello --world---, I am +++oxxo+++\n",
      "hello ---wor----, I am ---oxxo---\n",
      "hello ---wor----, I am  123.457  \n",
      "hello    world   , I am    oxxo   \n"
     ]
    }
   ],
   "source": [
    "a = 'hello {}, I am {}'.format('world','oxxo')\n",
    "b = 'hello {:10s}, I am {:10s}'.format('world','oxxo')    #:\t開始需要加上冒號\n",
    "c = 'hello {:>10s}, I am {:>10s}'.format('world','oxxo') #不加東西、>\t靠右對齊\n",
    "d = 'hello {:-^10s}, I am {:+^10s}'.format('world','oxxo')   # ^ 置中對齊\n",
    "e = 'hello {:-^10.3s}, I am {:-^10s}'.format('world','oxxo')  \n",
    "f = 'hello {:-^10.3s}, I am {:^10.3f}'.format('world',123.456789)\n",
    "g =  'hello {:+^11s}, I am {:^10s}'.format('world', 'oxxo')\n",
    "print(a)  # hello world, I am oxxo\n",
    "print(b)  # hello world     , I am oxxo   'hello {:-^11s}, I am {:-^10s}'.format('world','oxxo')\n",
    "print(c)  # hello      world, I am       oxxo\n",
    "print(d)  # hello --world---, I am +++oxxo+++  #填補字元\t將不足最小寬度的空白，填滿指定字元\n",
    "print(e)  # hello ---wor----, I am ---oxxo---\n",
    "print(f)  # hello ---wor----, I am  123.457  數字.數字\t最小寬度.最大字元數，如果後方是 f (%f)，第二個數字表示小數點位數\n",
    "print(g)\n"
   ]
  },
  {
   "cell_type": "code",
   "execution_count": 21,
   "metadata": {},
   "outputs": [
    {
     "name": "stdout",
     "output_type": "stream",
     "text": [
      "hello +++world---, I am +++oxxo---\n"
     ]
    }
   ],
   "source": [
    "g='hello +++{}---, I am +++{}---'.format('world','oxxo')\n",
    "print(g)"
   ]
  },
  {
   "cell_type": "code",
   "execution_count": null,
   "metadata": {},
   "outputs": [],
   "source": [
    "a = 'world'\n",
    "b = 'oxxo'\n",
    "c = f'hello {a}, I am {b}'        #操作方式為「f{變數名稱或運算式}」\n",
    "print(c)   # hello world, I am oxxo"
   ]
  },
  {
   "cell_type": "code",
   "execution_count": 22,
   "metadata": {},
   "outputs": [
    {
     "name": "stdout",
     "output_type": "stream",
     "text": [
      "hello +++world---, I am +++oxxo---\n"
     ]
    }
   ],
   "source": [
    "h='oxxo'\n",
    "i='hello +++world---, I am +++{}---'.format(h)\n",
    "print(i)"
   ]
  },
  {
   "cell_type": "code",
   "execution_count": 24,
   "metadata": {},
   "outputs": [
    {
     "name": "stdout",
     "output_type": "stream",
     "text": [
      "hello +++world---, I am +++oxxo---\n"
     ]
    }
   ],
   "source": [
    "a = '+++world---'\n",
    "b = '+++oxxo---'\n",
    "c = f'hello {a}, I am {b}'\n",
    "print(c)"
   ]
  },
  {
   "cell_type": "code",
   "execution_count": 25,
   "metadata": {},
   "outputs": [
    {
     "name": "stdout",
     "output_type": "stream",
     "text": [
      "hello world     , I am       oxxo\n",
      "hello world-----, I am +++oxxo+++\n",
      "hello wor-------, I am ++++ox++++\n",
      "hello WORLD, I am Oxxo\n"
     ]
    }
   ],
   "source": [
    "a = 'world'\n",
    "b = 'oxxo'\n",
    "c = f'hello {a:<10s}, I am {b:>10s}'\n",
    "d = f'hello {a:-<10s}, I am {b:+^10s}'\n",
    "e = f'hello {a:-<10.3s}, I am {b:+^10.2s}'\n",
    "f = f'hello {a.upper()}, I am {b.title()}'\n",
    "print(c)   # hello world     , I am       oxxo\n",
    "                   #:<                    :>\n",
    "print(d)   # hello world-----, I am +++oxxo+++\n",
    "print(e)   # hello wor-------, I am ++++ox++++\n",
    "print(f)   # hello WORLD, I am Oxxo"
   ]
  },
  {
   "cell_type": "code",
   "execution_count": 27,
   "metadata": {},
   "outputs": [
    {
     "name": "stdout",
     "output_type": "stream",
     "text": [
      "001 , 002 , 003 , 004 , 005 , 006 , 007 , 008 , 009 , 010 , \n",
      "011 , 012 , 013 , 014 , 015 , 016 , 017 , 018 , 019 , 020 , \n",
      "021 , 022 , 023 , 024 , 025 , 026 , 027 , 028 , 029 , 030 , \n",
      "031 , 032 , 033 , 034 , 035 , 036 , 037 , 038 , 039 , 040 , \n",
      "041 , 042 , 043 , 044 , 045 , 046 , 047 , 048 , 049 , 050 , \n",
      "051 , 052 , 053 , 054 , 055 , 056 , 057 , 058 , 059 , 060 , \n",
      "061 , 062 , 063 , 064 , 065 , 066 , 067 , 068 , 069 , 070 , \n",
      "071 , 072 , 073 , 074 , 075 , 076 , 077 , 078 , 079 , 080 , \n",
      "081 , 082 , 083 , 084 , 085 , 086 , 087 , 088 , 089 , 090 , \n",
      "091 , 092 , 093 , 094 , 095 , 096 , 097 , 098 , 099 , 100 , \n"
     ]
    }
   ],
   "source": [
    "count=0\n",
    "for i in range(1,101):\n",
    "  print(f'{i:03d}',end=' , ')\n",
    "  count+=1\n",
    "  if count%10==0:\n",
    "    print()\n",
    "\n",
    "#0,填充字符。這表示不足的部分用 0 填充。\n",
    "#3,最小寬度。這表示格式化後的數字至少要有三位。\n",
    "#d,表示數字的類型（整數）。\n",
    "#001 , 002 , 003 , 004 , 005 , 006 , 007 , 008 , 009 , 010 ,\n",
    "#011 , 012 , 013 , 014 , 015 , 016 , 017 , 018 , 019 , 020 ,\n",
    "#021 , 022 , 023 , 024 , 025 , 026 , 027 , 028 , 029 , 030 ,\n",
    "#031 , 032 , 033 , 034 , 035 , 036 , 037 , 038 , 039 , 040 ,\n",
    "#041 , 042 , 043 , 044 , 045 , 046 , 047 , 048 , 049 , 050 ,\n",
    "#051 , 052 , 053 , 054 , 055 , 056 , 057 , 058 , 059 , 060 ,\n",
    "#061 , 062 , 063 , 064 , 065 , 066 , 067 , 068 , 069 , 070 ,\n",
    "#071 , 072 , 073 , 074 , 075 , 076 , 077 , 078 , 079 , 080 ,\n",
    "#081 , 082 , 083 , 084 , 085 , 086 , 087 , 088 , 089 , 090 ,\n",
    "#091 , 092 , 093 , 094 , 095 , 096 , 097 , 098 , 099 , 100 ,\n"
   ]
  },
  {
   "cell_type": "code",
   "execution_count": null,
   "metadata": {},
   "outputs": [],
   "source": [
    "print('%s world' % 'hello')      # hello world\n",
    "print('%12s world' % 'hello')    #        hello world\n",
    "print('%+12s world' % 'hello')   #        hello world\n",
    "print('%-12s world' % 'hello')   # hello        world\n",
    "print('%.3s world' % 'hello')    # hel world   %.3s 會讓 hello 只剩下 hel ( 3 個字元 )\n",
    "print('%12.3s world' % 'hello')  #          hel world\n",
    "                                  #%12s 會在 hello 前方加上七個空格 ( 7 + hello 總共 12 個字元 )\n",
    "print('%.3f world' % 123.456789) # 123.457 world  %.3f 會讓 123.456789 只留下小數點三位。"
   ]
  },
  {
   "cell_type": "code",
   "execution_count": null,
   "metadata": {},
   "outputs": [],
   "source": [
    "a = 'world'\n",
    "b = 'oxxo'\n",
    "c = f'hello {a:<10s}, I am {b:>10s}'\n",
    "d = f'hello {a:-<10s}, I am {b:+^10s}'\n",
    "e = f'hello {a:-<10.3s}, I am {b:+^10.2s}'\n",
    "f = f'hello {a.upper()}, I am {b.title()}'\n",
    "print(c)   # hello world     , I am       oxxo\n",
    "                   #:<                    :>\n",
    "print(d)   # hello world-----, I am +++oxxo+++\n",
    "print(e)   # hello wor-------, I am ++++ox++++\n",
    "print(f)   # hello WORLD, I am Oxxo"
   ]
  },
  {
   "cell_type": "code",
   "execution_count": 38,
   "metadata": {},
   "outputs": [
    {
     "name": "stdout",
     "output_type": "stream",
     "text": [
      "123.46\n"
     ]
    }
   ],
   "source": [
    "n= float(input(''))\n",
    "c = f\"{n :.2f}\"\n",
    "print(c)"
   ]
  },
  {
   "cell_type": "code",
   "execution_count": null,
   "metadata": {},
   "outputs": [],
   "source": [
    "a = 'hello {}, I am {}'     #「{}」和「foramt()」是 Python 3 所使用的「新式」格式化，\n",
    "b = a.format('world', 'oxxo')    #操作方式為「格式化字串.format(資料)」\n",
    "print(b)   # hello world, I am oxxo"
   ]
  },
  {
   "cell_type": "code",
   "execution_count": 39,
   "metadata": {},
   "outputs": [
    {
     "name": "stdout",
     "output_type": "stream",
     "text": [
      "123 456\n"
     ]
    }
   ],
   "source": [
    "\n",
    "n=(input(''))\n",
    "m=(input(''))\n",
    "c=f'{n} {m}'\n",
    "print(c)\n"
   ]
  },
  {
   "cell_type": "code",
   "execution_count": 40,
   "metadata": {},
   "outputs": [
    {
     "name": "stdout",
     "output_type": "stream",
     "text": [
      "you are 18 years old\n"
     ]
    }
   ],
   "source": [
    "n=int(input(\"出生年份\"))\n",
    "\n",
    "c=f'{2024-n}'\n",
    "print(\"you are\",c,\"years old\")"
   ]
  },
  {
   "cell_type": "code",
   "execution_count": 42,
   "metadata": {},
   "outputs": [
    {
     "name": "stdout",
     "output_type": "stream",
     "text": [
      "2024-08-15-123.456\n"
     ]
    }
   ],
   "source": [
    "n=(input(\"\"))\n",
    "m=(input(\"\"))\n",
    "from datetime import date\n",
    "today= date.today()\n",
    "c=f'{today}-{n}.{m}'\n",
    "print(c)"
   ]
  },
  {
   "cell_type": "code",
   "execution_count": 43,
   "metadata": {},
   "outputs": [
    {
     "name": "stdout",
     "output_type": "stream",
     "text": [
      "5*6=30\n"
     ]
    }
   ],
   "source": [
    "n=int(input())\n",
    "m=int(input())\n",
    "k=n*m\n",
    "c=f'{n}*{m}={k}'\n",
    "print(c)"
   ]
  }
 ],
 "metadata": {
  "kernelspec": {
   "display_name": "base",
   "language": "python",
   "name": "python3"
  },
  "language_info": {
   "codemirror_mode": {
    "name": "ipython",
    "version": 3
   },
   "file_extension": ".py",
   "mimetype": "text/x-python",
   "name": "python",
   "nbconvert_exporter": "python",
   "pygments_lexer": "ipython3",
   "version": "3.12.4"
  }
 },
 "nbformat": 4,
 "nbformat_minor": 2
}
