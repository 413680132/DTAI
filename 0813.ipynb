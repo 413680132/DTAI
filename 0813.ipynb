{
 "cells": [
  {
   "cell_type": "code",
   "execution_count": 6,
   "metadata": {},
   "outputs": [
    {
     "name": "stdout",
     "output_type": "stream",
     "text": [
      "歡迎光臨\n",
      "內用還是外帶\n"
     ]
    }
   ],
   "source": [
    "密碼=(input(\"請輸入密碼\"))\n",
    "密碼=int(密碼)\n",
    "\n",
    "if (密碼==1234) :\n",
    "    print(\"歡迎光臨!\")\n",
    "    print(\"內用還是外帶?\")\n",
    "else:\n",
    "    print(\"密碼錯誤!\")"
   ]
  },
  {
   "cell_type": "code",
   "execution_count": 8,
   "metadata": {},
   "outputs": [
    {
     "name": "stdout",
     "output_type": "stream",
     "text": [
      "出門記得帶傘!\n"
     ]
    }
   ],
   "source": [
    "x=(input(\"今天會下雨嗎?\"))\n",
    "if(x==\"Y\" or x==\"y\"):\n",
    "    print(\"出門記得帶傘!\")\n",
    "elif(x==\"N\" or x==\"n\"):\n",
    "    print(\"出門不用帶傘\")\n",
    "else:\n",
    "    print(\"輸入錯誤\")"
   ]
  },
  {
   "cell_type": "code",
   "execution_count": 9,
   "metadata": {},
   "outputs": [
    {
     "name": "stdout",
     "output_type": "stream",
     "text": [
      "50 是偶數!\n"
     ]
    }
   ],
   "source": [
    "x=input()\n",
    "x=int(x)\n",
    "if(x%2==0):\n",
    "    print(x,\"是偶數!\")\n",
    "elif(x%2==1):\n",
    "    print(x,\"是奇數!\")\n",
    "else:\n",
    "    print(\"輸入錯誤\")"
   ]
  },
  {
   "cell_type": "code",
   "execution_count": 10,
   "metadata": {},
   "outputs": [
    {
     "name": "stdout",
     "output_type": "stream",
     "text": [
      "體溫略高\n"
     ]
    }
   ],
   "source": [
    "n=input()\n",
    "n=float(n)\n",
    "if(n>=37.5):\n",
    "    print(\"體溫過高\")\n",
    "elif(n>=37 and n<=37.4):\n",
    "    print(\"體溫略高\")\n",
    "elif(n>=34 and n<=36.9):\n",
    "    print(\"體溫正常\")\n",
    "elif(n<34):\n",
    "    print(\"體溫異常，請重新量測!\")\n"
   ]
  },
  {
   "cell_type": "code",
   "execution_count": null,
   "metadata": {},
   "outputs": [],
   "source": [
    "n=input()\n",
    "n=float(n)\n",
    "if(n>=90):\n",
    "    print(\"A\")\n",
    "elif(n>=80 and n<=89):\n",
    "    print(\"B\")\n",
    "elif(n>=70 and n<=79):\n",
    "    print(\"C\")\n",
    "elif(n>=60 and n<=69):\n",
    "    print(\"D\")\n",
    "elif(n<60):\n",
    "    print(\"E\")"
   ]
  },
  {
   "cell_type": "code",
   "execution_count": 12,
   "metadata": {},
   "outputs": [
    {
     "name": "stdout",
     "output_type": "stream",
     "text": [
      "10 月是秋天!\n"
     ]
    }
   ],
   "source": [
    "x=int(input())\n",
    "if (x<=0 or x>=13):\n",
    "    print(\"月份不在範圍內!\")\n",
    "elif (x==3 or x==4 or x==5):\n",
    "    print(x,\"月是春天!\")\n",
    "elif (x==6 or x==7 or x==8):\n",
    "    print(x,\"月是夏天!\")\n",
    "elif (x==9 or x==10 or x==11):\n",
    "    print(x,\"月是秋天!\")\n",
    "elif (x==12 or x==1 or x==2):\n",
    "    print(x,\"月是冬天!\")\n"
   ]
  },
  {
   "cell_type": "code",
   "execution_count": null,
   "metadata": {},
   "outputs": [],
   "source": [
    "x=float(input(\"請輸入今年收入淨額\"))\n",
    "if (x>=2000000):\n",
    "    print(\"付稅金額:\",(x*0.3),\"元\")\n",
    "elif (x<2000000 and x>=1000000):\n",
    "    print(\"付稅金額:\",(x*0.21),\"元\")\n",
    "elif (x<1000000 and x>=600000):\n",
    "    print(\"付稅金額:\",(x*0.13),\"元\")\n",
    "elif (x<600000 and x>=300000):\n",
    "    print(\"付稅金額:\",(x*0.06),\"元\")\n",
    "else :\n",
    "    print(\"付稅金額:\",0,\"元\")\n",
    "\n",
    "\n"
   ]
  },
  {
   "cell_type": "code",
   "execution_count": 18,
   "metadata": {},
   "outputs": [
    {
     "name": "stdout",
     "output_type": "stream",
     "text": [
      "612.0 元\n"
     ]
    }
   ],
   "source": [
    "x=int(input())\n",
    "if (x>=1000):\n",
    "    print((x*0.8),\"元\")\n",
    "elif (x>=500 and x<1000 ):\n",
    "    print((x*0.9),\"元\")\n",
    "elif (x<500 ):\n",
    "    print(x,\"元\")\n"
   ]
  },
  {
   "cell_type": "code",
   "execution_count": 17,
   "metadata": {},
   "outputs": [
    {
     "name": "stdout",
     "output_type": "stream",
     "text": [
      "油量不足，建議加油\n"
     ]
    }
   ],
   "source": [
    "fuel=int(input(\"公升\"))\n",
    "if (fuel>10):\n",
    "    print(\"油量充足\")\n",
    "elif (fuel>=5 and fuel<=10 ):\n",
    "    print(\"油量不足，建議加油\")\n",
    "elif (fuel<5 ):\n",
    "    print(\"需要立即加油!\")"
   ]
  },
  {
   "cell_type": "code",
   "execution_count": 16,
   "metadata": {},
   "outputs": [
    {
     "name": "stdout",
     "output_type": "stream",
     "text": [
      "4900 元\n"
     ]
    }
   ],
   "source": [
    "amount=int(input())\n",
    "if (amount>10000):\n",
    "    print(amount,\"元\")\n",
    "elif (amount>5000 and amount<=10000 ):\n",
    "    print((amount-50),\"元\")\n",
    "elif (amount>=1000 and amount<=5000 ):\n",
    "    print((amount-100),\"元\")\n",
    "elif (amount<1000 ):\n",
    "    print((amount-150),\"元\")"
   ]
  },
  {
   "cell_type": "code",
   "execution_count": null,
   "metadata": {},
   "outputs": [],
   "source": []
  }
 ],
 "metadata": {
  "kernelspec": {
   "display_name": "base",
   "language": "python",
   "name": "python3"
  },
  "language_info": {
   "codemirror_mode": {
    "name": "ipython",
    "version": 3
   },
   "file_extension": ".py",
   "mimetype": "text/x-python",
   "name": "python",
   "nbconvert_exporter": "python",
   "pygments_lexer": "ipython3",
   "version": "3.12.4"
  }
 },
 "nbformat": 4,
 "nbformat_minor": 2
}
