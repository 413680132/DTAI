{
 "cells": [
  {
   "cell_type": "code",
   "execution_count": 6,
   "metadata": {},
   "outputs": [
    {
     "name": "stdout",
     "output_type": "stream",
     "text": [
      "歡迎光臨\n",
      "內用還是外帶\n"
     ]
    }
   ],
   "source": [
    "密碼=(input(\"請輸入密碼\"))\n",
    "密碼=int(密碼)\n",
    "\n",
    "if (密碼==1234) :\n",
    "    print(\"歡迎光臨!\")\n",
    "    print(\"內用還是外帶?\")\n",
    "elif(密碼==4136):\n",
    "    print(\"咖啡的後座力也太大了些，感覺跟醉了一樣\")\n",
    "elif(密碼==110):\n",
    "    print(\"這裡沒有警察那東西\")\n",
    "elif(密碼==666):\n",
    "    print(\"要找哪一位?\")\n",
    "elif(密碼==777):\n",
    "    print(\"你贏了!但我們沒錢給你\")\n",
    "elif(密碼==4444):\n",
    "    print(\"找燼?\")\n",
    "elif(密碼==119):\n",
    "    print(\"又有人放火?\")\n",
    "elif(密碼==4321):\n",
    "    print(\"不歡迎光臨!\")\n",
    "    print(\"外用還是內帶?\")\n",
    "    \n",
    "\n",
    "else:\n",
    "    print(\"密碼錯誤!\")"
   ]
  },
  {
   "cell_type": "code",
   "execution_count": 8,
   "metadata": {},
   "outputs": [
    {
     "name": "stdout",
     "output_type": "stream",
     "text": [
      "出門記得帶傘!\n"
     ]
    }
   ],
   "source": [
    "x=(input(\"今天會下雨嗎?\"))\n",
    "if(x==\"Y\" or x==\"y\"):\n",
    "    print(\"出門記得帶傘!\")\n",
    "elif(x==\"N\" or x==\"n\"):\n",
    "    print(\"出門不用帶傘\")\n",
    "else:\n",
    "    print(\"輸入錯誤\")"
   ]
  },
  {
   "cell_type": "code",
   "execution_count": 9,
   "metadata": {},
   "outputs": [
    {
     "name": "stdout",
     "output_type": "stream",
     "text": [
      "50 是偶數!\n"
     ]
    }
   ],
   "source": [
    "x=input()\n",
    "x=int(x)\n",
    "if(x%2==0):\n",
    "    print(x,\"是偶數!\")\n",
    "elif(x%2==1):\n",
    "    print(x,\"是奇數!\")\n",
    "else:\n",
    "    print(\"輸入錯誤\")"
   ]
  },
  {
   "cell_type": "code",
   "execution_count": 10,
   "metadata": {},
   "outputs": [
    {
     "name": "stdout",
     "output_type": "stream",
     "text": [
      "體溫略高\n"
     ]
    }
   ],
   "source": [
    "n=input()\n",
    "n=float(n)\n",
    "if(n>=37.5):\n",
    "    print(\"體溫過高\")\n",
    "elif(n>=37 and n<=37.4):\n",
    "    print(\"體溫略高\")\n",
    "elif(n>=34 and n<=36.9):\n",
    "    print(\"體溫正常\")\n",
    "elif(n<34):\n",
    "    print(\"體溫異常，請重新量測!\")\n"
   ]
  },
  {
   "cell_type": "code",
   "execution_count": null,
   "metadata": {},
   "outputs": [],
   "source": [
    "n=input()\n",
    "n=float(n)\n",
    "if(n>=90):\n",
    "    print(\"A\")\n",
    "elif(n>=80 and n<=89):\n",
    "    print(\"B\")\n",
    "elif(n>=70 and n<=79):\n",
    "    print(\"C\")\n",
    "elif(n>=60 and n<=69):\n",
    "    print(\"D\")\n",
    "elif(n<60):\n",
    "    print(\"E\")"
   ]
  },
  {
   "cell_type": "code",
   "execution_count": 12,
   "metadata": {},
   "outputs": [
    {
     "name": "stdout",
     "output_type": "stream",
     "text": [
      "10 月是秋天!\n"
     ]
    }
   ],
   "source": [
    "x=int(input())\n",
    "if (x<=0 or x>=13):\n",
    "    print(\"月份不在範圍內!\")\n",
    "elif (x==3 or x==4 or x==5):\n",
    "    print(x,\"月是春天!\")\n",
    "elif (x==6 or x==7 or x==8):\n",
    "    print(x,\"月是夏天!\")\n",
    "elif (x==9 or x==10 or x==11):\n",
    "    print(x,\"月是秋天!\")\n",
    "elif (x==12 or x==1 or x==2):\n",
    "    print(x,\"月是冬天!\")\n"
   ]
  },
  {
   "cell_type": "code",
   "execution_count": null,
   "metadata": {},
   "outputs": [],
   "source": [
    "x=float(input(\"請輸入今年收入淨額\"))\n",
    "if (x>=2000000):\n",
    "    print(\"付稅金額:\",(x*0.3),\"元\")\n",
    "elif (x<2000000 and x>=1000000):\n",
    "    print(\"付稅金額:\",(x*0.21),\"元\")\n",
    "elif (x<1000000 and x>=600000):\n",
    "    print(\"付稅金額:\",(x*0.13),\"元\")\n",
    "elif (x<600000 and x>=300000):\n",
    "    print(\"付稅金額:\",(x*0.06),\"元\")\n",
    "else :\n",
    "    print(\"付稅金額:\",0,\"元\")\n",
    "\n",
    "\n"
   ]
  },
  {
   "cell_type": "code",
   "execution_count": 18,
   "metadata": {},
   "outputs": [
    {
     "name": "stdout",
     "output_type": "stream",
     "text": [
      "612.0 元\n"
     ]
    }
   ],
   "source": [
    "x=int(input())\n",
    "if (x>=1000):\n",
    "    print((x*0.8),\"元\")\n",
    "elif (x>=500 and x<1000 ):\n",
    "    print((x*0.9),\"元\")\n",
    "elif (x<500 ):\n",
    "    print(x,\"元\")\n"
   ]
  },
  {
   "cell_type": "code",
   "execution_count": 17,
   "metadata": {},
   "outputs": [
    {
     "name": "stdout",
     "output_type": "stream",
     "text": [
      "油量不足，建議加油\n"
     ]
    }
   ],
   "source": [
    "fuel=int(input(\"公升\"))\n",
    "if (fuel>10):\n",
    "    print(\"油量充足\")\n",
    "elif (fuel>=5 and fuel<=10 ):\n",
    "    print(\"油量不足，建議加油\")\n",
    "elif (fuel<5 ):\n",
    "    print(\"需要立即加油!\")"
   ]
  },
  {
   "cell_type": "code",
   "execution_count": 16,
   "metadata": {},
   "outputs": [
    {
     "name": "stdout",
     "output_type": "stream",
     "text": [
      "4900 元\n"
     ]
    }
   ],
   "source": [
    "amount=int(input())\n",
    "if (amount>10000):\n",
    "    print(amount,\"元\")\n",
    "elif (amount>5000 and amount<=10000 ):\n",
    "    print((amount-50),\"元\")\n",
    "elif (amount>=1000 and amount<=5000 ):\n",
    "    print((amount-100),\"元\")\n",
    "elif (amount<1000 ):\n",
    "    print((amount-150),\"元\")"
   ]
  },
  {
   "cell_type": "code",
   "execution_count": 19,
   "metadata": {},
   "outputs": [
    {
     "name": "stdout",
     "output_type": "stream",
     "text": [
      "[8, 7, 6, 5, 4]\n"
     ]
    }
   ],
   "source": [
    "c = range(3, 8, 1)  # 3,4,5,6,7 \n",
    "d = range(3, 8, 2)  # 3,5,7 \n",
    "e = range(8, 3, -1) # 8,7,6,5,4\n",
    "print(list(e))"
   ]
  },
  {
   "cell_type": "code",
   "execution_count": 25,
   "metadata": {},
   "outputs": [
    {
     "name": "stdout",
     "output_type": "stream",
     "text": [
      "[1, 2, 3, 4, 5, 6, 7, 8, 9, 10, 11, 12, 13, 14, 15]\n"
     ]
    }
   ],
   "source": [
    "k=(input(\"請輸入一個正整數\"))\n",
    "k=int(k)\n",
    "k=range(1,k+1,1)\n",
    "print(list(k))"
   ]
  },
  {
   "cell_type": "code",
   "execution_count": 30,
   "metadata": {},
   "outputs": [
    {
     "name": "stdout",
     "output_type": "stream",
     "text": [
      "1到 10 的整數和為 55\n"
     ]
    }
   ],
   "source": [
    "t=(input(\"請輸入一個正整數:\"))\n",
    "t=int(t)\n",
    "sum=0\n",
    "for t in range(t+1):\n",
    "    sum=sum+t\n",
    "print(\"1到\",t,\"的整數和為\",sum)"
   ]
  },
  {
   "cell_type": "code",
   "execution_count": 36,
   "metadata": {},
   "outputs": [
    {
     "name": "stdout",
     "output_type": "stream",
     "text": [
      "1到 1 的整數和為 1\n",
      "1到 2 的整數和為 3\n",
      "1到 3 的整數和為 6\n",
      "1到 4 的整數和為 10\n",
      "1到 5 的整數和為 15\n",
      "1到 6 的整數和為 21\n",
      "1到 7 的整數和為 28\n",
      "1到 8 的整數和為 36\n",
      "1到 9 的整數和為 45\n",
      "1到 10 的整數和為 55\n"
     ]
    }
   ],
   "source": [
    "t=(input(\"請輸入一個正整數:\"))\n",
    "t=int(t)\n",
    "sum=0\n",
    "for t in range(1,t+1,1):\n",
    "    sum=sum+t\n",
    "    print(\"1到\",t,\"的整數和為\",sum)"
   ]
  },
  {
   "cell_type": "code",
   "execution_count": 40,
   "metadata": {},
   "outputs": [
    {
     "name": "stdout",
     "output_type": "stream",
     "text": [
      "2550\n"
     ]
    }
   ],
   "source": [
    "\n",
    "x=int(x)\n",
    "sum=0\n",
    "for x in range(0,101,2):\n",
    "    sum=sum+x\n",
    "print(sum)"
   ]
  },
  {
   "cell_type": "code",
   "execution_count": 42,
   "metadata": {},
   "outputs": [
    {
     "name": "stdout",
     "output_type": "stream",
     "text": [
      "10\n",
      "9\n",
      "8\n",
      "7\n",
      "6\n",
      "5\n",
      "4\n",
      "3\n",
      "2\n",
      "1\n",
      "倒數結束!\n"
     ]
    }
   ],
   "source": [
    "\n",
    "t=int(t)\n",
    "\n",
    "for t in range(10,0,-1):\n",
    "    \n",
    "    print(t)\n",
    "print(\"倒數結束!\")"
   ]
  },
  {
   "cell_type": "code",
   "execution_count": 47,
   "metadata": {},
   "outputs": [
    {
     "name": "stdout",
     "output_type": "stream",
     "text": [
      "從 1 到 10 的平方數列表為: [1, 4, 9, 16, 25, 36, 49, 64, 81, 100]\n"
     ]
    }
   ],
   "source": [
    "t=int(t)\n",
    "squares = []    # 初始化(創造?)一個空列表\n",
    "for t in range(1,11,1):\n",
    "    squares.append(t ** 2)     # 用append把計算出來的東西丟到列表\n",
    "print(\"從 1 到 10 的平方數列表為:\", squares)\n"
   ]
  },
  {
   "cell_type": "code",
   "execution_count": 48,
   "metadata": {},
   "outputs": [
    {
     "name": "stdout",
     "output_type": "stream",
     "text": [
      "3\n",
      "7\n",
      "11\n",
      "15\n",
      "19\n",
      "23\n",
      "27\n"
     ]
    }
   ],
   "source": [
    "t=int(t)\n",
    "\n",
    "for t in range(3,30,4):\n",
    "    \n",
    "    print(t)"
   ]
  },
  {
   "cell_type": "code",
   "execution_count": 55,
   "metadata": {},
   "outputs": [
    {
     "name": "stdout",
     "output_type": "stream",
     "text": [
      "26 27 28 29 30 31 32 33 34 35 36 37 38 39 40 41 42 43 44 45 46 47 48 49 50 "
     ]
    }
   ],
   "source": [
    "t,y=input().split()\n",
    "t=int(t)\n",
    "y=int(y)\n",
    "x=int (x)\n",
    "for x in range(t,y+1,1):\n",
    "    if x>25:\n",
    "        print(x,end=\" \")"
   ]
  }
 ],
 "metadata": {
  "kernelspec": {
   "display_name": "base",
   "language": "python",
   "name": "python3"
  },
  "language_info": {
   "codemirror_mode": {
    "name": "ipython",
    "version": 3
   },
   "file_extension": ".py",
   "mimetype": "text/x-python",
   "name": "python",
   "nbconvert_exporter": "python",
   "pygments_lexer": "ipython3",
   "version": "3.12.4"
  }
 },
 "nbformat": 4,
 "nbformat_minor": 2
}
