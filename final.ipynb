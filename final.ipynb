{
 "cells": [
  {
   "cell_type": "code",
   "execution_count": null,
   "metadata": {},
   "outputs": [],
   "source": [
    "x=input()\n",
    "y=input()\n",
    "x=float(x)\n",
    "y=float(y)\n",
    "z=(x%y)\n",
    "z=float(z)\n",
    "print(z)"
   ]
  },
  {
   "cell_type": "code",
   "execution_count": null,
   "metadata": {},
   "outputs": [],
   "source": [
    "k, j = map(int, input().split())\n",
    "if k > j:\n",
    "    k, j = j, k  \n",
    "\n",
    "k=int(k)\n",
    "j=int(j)\n",
    "\n",
    "for i in range(k,j+1):\n",
    "    x=i//100\n",
    "    x=int(x)\n",
    "    y=(i//10)%10\n",
    "    y=int(y)\n",
    "    z=i% 10\n",
    "    z=int(z)\n",
    "    if((x**3)+(y**3)+(z**3)==i)and(i<1000):\n",
    "        print(i,end=\",\")"
   ]
  },
  {
   "cell_type": "code",
   "execution_count": null,
   "metadata": {},
   "outputs": [],
   "source": [
    "x=input()\n",
    "y=input()\n",
    "z=input()\n",
    "x=float(x)\n",
    "y=float(y)\n",
    "z=float(z)\n",
    "g=((x+y)*z)/2\n",
    "g=float(g)\n",
    "h=f't={x} b={y} h={z} area={g}'\n",
    "print(h)"
   ]
  },
  {
   "cell_type": "code",
   "execution_count": null,
   "metadata": {},
   "outputs": [],
   "source": [
    "x=input()\n",
    "x=int(x)\n",
    "n=(x//60)\n",
    "n=int(n)\n",
    "m=(x%60)\n",
    "m=int(m)\n",
    "t=20\n",
    "g=t+(40*n)\n",
    "g=int(g)\n",
    "a=f'park time:{n}h:{m}m'\n",
    "print(a)\n",
    "if (g<=300):\n",
    "    b=f'pay:{g} money'\n",
    "    print(b)\n",
    "elif(g>300):\n",
    "    print(\"pay:300 money\")"
   ]
  },
  {
   "cell_type": "code",
   "execution_count": null,
   "metadata": {},
   "outputs": [],
   "source": [
    "x,y,z=input().split()\n",
    "x=int(x)\n",
    "y=int(y)\n",
    "z=int(z)\n",
    "j=[i for i in range(x,y,z)]\n",
    "print(j)"
   ]
  },
  {
   "cell_type": "code",
   "execution_count": null,
   "metadata": {},
   "outputs": [],
   "source": [
    "x=input()\n",
    "x=int(x)\n",
    "if(x%4==0 and x%100!=0) or (x % 400 == 0):\n",
    "    print(x,\"is leap year\")\n",
    "else:\n",
    "    print(x,\"is common year\")"
   ]
  },
  {
   "cell_type": "code",
   "execution_count": null,
   "metadata": {},
   "outputs": [],
   "source": [
    "n=input()\n",
    "n=int(n)\n",
    "if(n>=90 and n<=100):\n",
    "    print(n,\"is A\")\n",
    "elif(n>=80 and n<=89):\n",
    "    print(n,\"is B\")\n",
    "elif(n>=70 and n<=79):\n",
    "    print(n,\"is C\")\n",
    "elif(n>=60 and n<=69):\n",
    "    print(n,\"is D\")\n",
    "elif(n<60 and n>=0):\n",
    "    print(n,\"is E\")\n",
    "else:\n",
    "    print(n,\"is error\")"
   ]
  },
  {
   "cell_type": "code",
   "execution_count": null,
   "metadata": {},
   "outputs": [],
   "source": [
    "a,b,c=input().split()\n",
    "a=int(a)\n",
    "b=int(b)\n",
    "c=int(c)\n",
    "for i in range(a,b,c):\n",
    "    print(i,end=\",\")"
   ]
  },
  {
   "cell_type": "code",
   "execution_count": null,
   "metadata": {},
   "outputs": [],
   "source": [
    "n=int(input())\n",
    "i=n\n",
    "for i in range(1,n+1):\n",
    "    \n",
    "     print(\"*\"*i)"
   ]
  },
  {
   "cell_type": "code",
   "execution_count": null,
   "metadata": {},
   "outputs": [],
   "source": [
    "x=input()\n",
    "x=int(x)\n",
    "for j in range(x,10):\n",
    "    \n",
    "    for i in range(1,10):\n",
    "        k=i*j\n",
    "        print(\"%d*%d=%d\" % (j, i, k), end=\" \")\n",
    "    print()"
   ]
  }
 ],
 "metadata": {
  "language_info": {
   "name": "python"
  }
 },
 "nbformat": 4,
 "nbformat_minor": 2
}
